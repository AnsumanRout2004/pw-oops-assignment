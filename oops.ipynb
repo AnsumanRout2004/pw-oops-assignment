{
 "cells": [
  {
   "cell_type": "code",
   "execution_count": null,
   "id": "fcaa2ccc-93c9-4f9e-b8a7-2b4829238677",
   "metadata": {},
   "outputs": [],
   "source": [
    "Q1, Create a vehicle class with an init method having instance variables as name_of_vehicle, max_speed\n",
    "and average_of_vehicle."
   ]
  },
  {
   "cell_type": "code",
   "execution_count": 33,
   "id": "89677a22-8cb0-418d-9151-725a8c92a006",
   "metadata": {},
   "outputs": [
    {
     "name": "stdout",
     "output_type": "stream",
     "text": [
      "Bike 180 40\n"
     ]
    }
   ],
   "source": [
    "class Vehicle:\n",
    "    def __init__(self, name_of_vehicle, max_speed, average_of_vehicle):\n",
    "        self.name_of_vehicle = name_of_vehicle\n",
    "        self.max_speed = max_speed\n",
    "        self.average_of_vehicle = average_of_vehicle\n",
    "\n",
    "# Example of creating an object\n",
    "vehicle1 = Vehicle(\"Bike\", 180, 40)\n",
    "print(vehicle1.name_of_vehicle, vehicle1.max_speed, vehicle1.average_of_vehicle)\n"
   ]
  },
  {
   "cell_type": "code",
   "execution_count": null,
   "id": "0a374a3d-4fc2-4ba3-aa9f-efddf893f6c3",
   "metadata": {},
   "outputs": [],
   "source": [
    "Q2. Create a child class car from the vehicle class created in Que 1, which will inherit the vehicle class.\n",
    "Create a method named seating_capacity which takes capacity as an argument and returns the name of\n",
    "the vehicle and its seating capacity."
   ]
  },
  {
   "cell_type": "code",
   "execution_count": 35,
   "id": "4763fbde-f429-4f5c-beeb-12c2dde955a0",
   "metadata": {},
   "outputs": [
    {
     "name": "stdout",
     "output_type": "stream",
     "text": [
      "Sedan has a seating capacity of 5 people.\n"
     ]
    }
   ],
   "source": [
    "class Car(Vehicle):\n",
    "    def seating_capacity(self, capacity):\n",
    "        return f\"{self.name_of_vehicle} has a seating capacity of {capacity} people.\"\n",
    "\n",
    "# Example of creating a car object\n",
    "car1 = Car(\"Sedan\", 220, 15)\n",
    "print(car1.seating_capacity(5))\n"
   ]
  },
  {
   "cell_type": "code",
   "execution_count": null,
   "id": "51bf24cc-5697-4cc1-8f27-77199fb99ddc",
   "metadata": {},
   "outputs": [],
   "source": [
    "Q3. What is multiple inheritance? Write a python code to demonstrate multiple inheritance."
   ]
  },
  {
   "cell_type": "code",
   "execution_count": 37,
   "id": "e303275a-6e0e-4724-a7be-eb5d552f1f83",
   "metadata": {},
   "outputs": [
    {
     "name": "stdout",
     "output_type": "stream",
     "text": [
      "Function from Parent1\n",
      "Function from Parent2\n",
      "Function from Child\n"
     ]
    }
   ],
   "source": [
    "#Definition:\n",
    "\n",
    "#Multiple inheritance is when a child class inherits from more than one parent class.\n",
    "\n",
    "class Parent1:\n",
    "    def func1(self):\n",
    "        return \"Function from Parent1\"\n",
    "\n",
    "class Parent2:\n",
    "    def func2(self):\n",
    "        return \"Function from Parent2\"\n",
    "\n",
    "class Child(Parent1, Parent2):\n",
    "    def func3(self):\n",
    "        return \"Function from Child\"\n",
    "\n",
    "# Example\n",
    "child_obj = Child()\n",
    "print(child_obj.func1())  # Accessing Parent1's method\n",
    "print(child_obj.func2())  # Accessing Parent2's method\n",
    "print(child_obj.func3())  # Accessing Child's own method\n",
    "\n"
   ]
  },
  {
   "cell_type": "code",
   "execution_count": null,
   "id": "50b400ca-e65c-4af0-aebb-cc97eb089fc2",
   "metadata": {},
   "outputs": [],
   "source": [
    "Q4. What are getter and setter in python? Create a class and create a getter and a setter method in this\n",
    "class."
   ]
  },
  {
   "cell_type": "code",
   "execution_count": 39,
   "id": "1a494d97-c5ff-4e00-92c5-a7005d16279c",
   "metadata": {},
   "outputs": [
    {
     "name": "stdout",
     "output_type": "stream",
     "text": [
      "20\n",
      "25\n",
      "Age must be positive!\n"
     ]
    }
   ],
   "source": [
    "#Definition:\n",
    "\n",
    "#Getter: Used to get the value of a private attribute.\n",
    "#Setter: Used to set the value of a private attribute safely.\n",
    "\n",
    "class Student:\n",
    "    def __init__(self, name, age):\n",
    "        self._name = name  # Protected attribute\n",
    "        self._age = age    # Protected attribute\n",
    "\n",
    "    # Getter method\n",
    "    def get_age(self):\n",
    "        return self._age\n",
    "\n",
    "    # Setter method\n",
    "    def set_age(self, age):\n",
    "        if age > 0:\n",
    "            self._age = age\n",
    "        else:\n",
    "            print(\"Age must be positive!\")\n",
    "\n",
    "# Example usage\n",
    "student1 = Student(\"John\", 20)\n",
    "print(student1.get_age())  # Output: 20\n",
    "\n",
    "student1.set_age(25)       # Setting a valid age\n",
    "print(student1.get_age())  # Output: 25\n",
    "\n",
    "student1.set_age(-5)       # Invalid age input\n",
    "\n",
    "\n",
    "\n"
   ]
  },
  {
   "cell_type": "code",
   "execution_count": null,
   "id": "6bc916a7-2cf7-40fe-8962-9c88d6ac7ad1",
   "metadata": {},
   "outputs": [],
   "source": [
    "Q5.What is method overriding in python? Write a python code to demonstrate method overriding."
   ]
  },
  {
   "cell_type": "code",
   "execution_count": null,
   "id": "78917d61-726c-4b16-b431-c20d481bb47b",
   "metadata": {},
   "outputs": [],
   "source": [
    "#Definition:\n",
    "\n",
    "#Method overriding occurs when a child class provides a specific implementation of a method already defined in its parent class.\n",
    "\n",
    "class Animal:\n",
    "    def sound(self):\n",
    "        return \"Animals make sounds\"\n",
    "\n",
    "class Dog(Animal):\n",
    "    def sound(self):\n",
    "        return \"Dog barks\"\n",
    "\n",
    "# Example usage\n",
    "dog = Dog()\n",
    "print(dog.sound())  # Output: Dog barks\n",
    "\n",
    "\n"
   ]
  },
  {
   "cell_type": "code",
   "execution_count": null,
   "id": "9ae2b123-3944-4a84-ba99-4420a2c593d9",
   "metadata": {},
   "outputs": [],
   "source": []
  },
  {
   "cell_type": "code",
   "execution_count": null,
   "id": "65e9263a-366f-4798-b9b3-69dde3bea010",
   "metadata": {},
   "outputs": [],
   "source": []
  }
 ],
 "metadata": {
  "kernelspec": {
   "display_name": "Python [conda env:base] *",
   "language": "python",
   "name": "conda-base-py"
  },
  "language_info": {
   "codemirror_mode": {
    "name": "ipython",
    "version": 3
   },
   "file_extension": ".py",
   "mimetype": "text/x-python",
   "name": "python",
   "nbconvert_exporter": "python",
   "pygments_lexer": "ipython3",
   "version": "3.11.5"
  }
 },
 "nbformat": 4,
 "nbformat_minor": 5
}
